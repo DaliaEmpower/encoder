{
 "cells": [
  {
   "cell_type": "markdown",
   "metadata": {},
   "source": [
    "# Crear DataFrame a partir de un directorio\n",
    "Este notebook proporciona un script de Python que utiliza Pandas para crear un DataFrame basado en la estructura de un directorio proporcionado, que contiene información sobre cursos, lecciones, rutas m3u8 y enlaces del servidor."
   ]
  },
  {
   "cell_type": "markdown",
   "metadata": {},
   "source": [
    "## Bibliotecas\n",
    "* `os` para manipular archivos y directorios.\n",
    "* `pandas` para crear el DataFrame."
   ]
  },
  {
   "cell_type": "code",
   "execution_count": 1,
   "metadata": {},
   "outputs": [
    {
     "name": "stdout",
     "output_type": "stream",
     "text": [
      "Requirement already satisfied: pandas in c:\\users\\it performance\\appdata\\local\\programs\\python\\python312\\lib\\site-packages (2.2.2)\n",
      "Requirement already satisfied: numpy>=1.26.0 in c:\\users\\it performance\\appdata\\local\\programs\\python\\python312\\lib\\site-packages (from pandas) (1.26.4)\n",
      "Requirement already satisfied: python-dateutil>=2.8.2 in c:\\users\\it performance\\appdata\\local\\programs\\python\\python312\\lib\\site-packages (from pandas) (2.9.0.post0)\n",
      "Requirement already satisfied: pytz>=2020.1 in c:\\users\\it performance\\appdata\\local\\programs\\python\\python312\\lib\\site-packages (from pandas) (2024.1)\n",
      "Requirement already satisfied: tzdata>=2022.7 in c:\\users\\it performance\\appdata\\local\\programs\\python\\python312\\lib\\site-packages (from pandas) (2024.1)\n",
      "Requirement already satisfied: six>=1.5 in c:\\users\\it performance\\appdata\\local\\programs\\python\\python312\\lib\\site-packages (from python-dateutil>=2.8.2->pandas) (1.16.0)\n",
      "Note: you may need to restart the kernel to use updated packages.\n"
     ]
    }
   ],
   "source": [
    "%pip install pandas"
   ]
  },
  {
   "cell_type": "markdown",
   "metadata": {},
   "source": [
    "### Importamos bibliotecas\n",
    "Importamos las bibliotecas:"
   ]
  },
  {
   "cell_type": "code",
   "execution_count": 2,
   "metadata": {},
   "outputs": [],
   "source": [
    "import os\n",
    "import pandas as pd"
   ]
  },
  {
   "cell_type": "markdown",
   "metadata": {},
   "source": [
    "## Función\n",
    "Definimos una función llamada generate_dataframe que toma un directorio como entrada y genera el DataFrame."
   ]
  },
  {
   "cell_type": "code",
   "execution_count": 4,
   "metadata": {},
   "outputs": [],
   "source": [
    "def generate_dataframe(directory):\n",
    "    data = []\n",
    "    for curso in os.listdir(directory):\n",
    "        curso_path = os.path.join(directory, curso)\n",
    "        if os.path.isdir(curso_path):\n",
    "            for leccion in os.listdir(curso_path):\n",
    "                leccion_path = os.path.join(curso_path, leccion)\n",
    "                if os.path.isdir(leccion_path):\n",
    "                    m3u8_files = [file for file in os.listdir(leccion_path) if file.endswith('.m3u8')]\n",
    "                    if m3u8_files:\n",
    "                        # asumimos que hay un solo archivo m3u8 por lección\n",
    "                        m3u8_file = m3u8_files[0]\n",
    "                        m3u8_path = os.path.join(leccion_path, m3u8_file)\n",
    "                        # armamos un link para cada lección\n",
    "                        link_server = \"http://example.com/{}\".format(m3u8_file)\n",
    "                        data.append([curso, leccion, m3u8_path, link_server])\n",
    "    \n",
    "    df = pd.DataFrame(data, columns=['Curso', 'Lección', 'ruta m3u8', 'link server'])\n",
    "    return df"
   ]
  },
  {
   "cell_type": "markdown",
   "metadata": {},
   "source": [
    "## Especificar el directoriio y generar DataFrame\n",
    "Especifica el directorio que contiene la estructura de directorios de cursos y lecciones, y luego llama a la función generate_dataframe para generar el DataFrame."
   ]
  },
  {
   "cell_type": "code",
   "execution_count": 5,
   "metadata": {},
   "outputs": [
    {
     "data": {
      "text/html": [
       "<div>\n",
       "<style scoped>\n",
       "    .dataframe tbody tr th:only-of-type {\n",
       "        vertical-align: middle;\n",
       "    }\n",
       "\n",
       "    .dataframe tbody tr th {\n",
       "        vertical-align: top;\n",
       "    }\n",
       "\n",
       "    .dataframe thead th {\n",
       "        text-align: right;\n",
       "    }\n",
       "</style>\n",
       "<table border=\"1\" class=\"dataframe\">\n",
       "  <thead>\n",
       "    <tr style=\"text-align: right;\">\n",
       "      <th></th>\n",
       "      <th>Curso</th>\n",
       "      <th>Lección</th>\n",
       "      <th>ruta m3u8</th>\n",
       "      <th>link server</th>\n",
       "    </tr>\n",
       "  </thead>\n",
       "  <tbody>\n",
       "    <tr>\n",
       "      <th>0</th>\n",
       "      <td>curso1</td>\n",
       "      <td>3._de_programas_y_patrones (1080p)</td>\n",
       "      <td>hls\\curso1\\3._de_programas_y_patrones (1080p)\\...</td>\n",
       "      <td>http://example.com/3._de_programas_y_patrones ...</td>\n",
       "    </tr>\n",
       "    <tr>\n",
       "      <th>1</th>\n",
       "      <td>curso1</td>\n",
       "      <td>conferencia_ikigai,_vive_con_propósito (1080p)</td>\n",
       "      <td>hls\\curso1\\conferencia_ikigai,_vive_con_propós...</td>\n",
       "      <td>http://example.com/conferencia_ikigai,_vive_co...</td>\n",
       "    </tr>\n",
       "    <tr>\n",
       "      <th>2</th>\n",
       "      <td>curso1</td>\n",
       "      <td>equidad_de_género_-_diversidad (1080p)</td>\n",
       "      <td>hls\\curso1\\equidad_de_género_-_diversidad (108...</td>\n",
       "      <td>http://example.com/equidad_de_género_-_diversi...</td>\n",
       "    </tr>\n",
       "    <tr>\n",
       "      <th>3</th>\n",
       "      <td>curso1</td>\n",
       "      <td>¿cómo_defino_mi_personal_branding_ (1080p)</td>\n",
       "      <td>hls\\curso1\\¿cómo_defino_mi_personal_branding_ ...</td>\n",
       "      <td>http://example.com/¿cómo_defino_mi_personal_br...</td>\n",
       "    </tr>\n",
       "    <tr>\n",
       "      <th>4</th>\n",
       "      <td>curso1</td>\n",
       "      <td>¿qué_son_los_estereotipos_ (1080p)</td>\n",
       "      <td>hls\\curso1\\¿qué_son_los_estereotipos_ (1080p)\\...</td>\n",
       "      <td>http://example.com/¿qué_son_los_estereotipos_ ...</td>\n",
       "    </tr>\n",
       "    <tr>\n",
       "      <th>5</th>\n",
       "      <td>curso2</td>\n",
       "      <td>las_fases_del_autoconocimiento_y_cómo_reforzar...</td>\n",
       "      <td>hls\\curso2\\las_fases_del_autoconocimiento_y_có...</td>\n",
       "      <td>http://example.com/las_fases_del_autoconocimie...</td>\n",
       "    </tr>\n",
       "    <tr>\n",
       "      <th>6</th>\n",
       "      <td>curso2</td>\n",
       "      <td>lección_2_·_la_importancia_de_la_presencia (10...</td>\n",
       "      <td>hls\\curso2\\lección_2_·_la_importancia_de_la_pr...</td>\n",
       "      <td>http://example.com/lección_2_·_la_importancia_...</td>\n",
       "    </tr>\n",
       "    <tr>\n",
       "      <th>7</th>\n",
       "      <td>curso2</td>\n",
       "      <td>modificar_tu_cerebro_·_neuroplasticidad (1080p)</td>\n",
       "      <td>hls\\curso2\\modificar_tu_cerebro_·_neuroplastic...</td>\n",
       "      <td>http://example.com/modificar_tu_cerebro_·_neur...</td>\n",
       "    </tr>\n",
       "    <tr>\n",
       "      <th>8</th>\n",
       "      <td>curso2</td>\n",
       "      <td>retos_personales_y_profesionales (1080p)</td>\n",
       "      <td>hls\\curso2\\retos_personales_y_profesionales (1...</td>\n",
       "      <td>http://example.com/retos_personales_y_profesio...</td>\n",
       "    </tr>\n",
       "    <tr>\n",
       "      <th>9</th>\n",
       "      <td>curso2</td>\n",
       "      <td>síndrome_del_impostor_y_su_impacto_en_la_vida_...</td>\n",
       "      <td>hls\\curso2\\síndrome_del_impostor_y_su_impacto_...</td>\n",
       "      <td>http://example.com/síndrome_del_impostor_y_su_...</td>\n",
       "    </tr>\n",
       "  </tbody>\n",
       "</table>\n",
       "</div>"
      ],
      "text/plain": [
       "    Curso                                            Lección  \\\n",
       "0  curso1                 3._de_programas_y_patrones (1080p)   \n",
       "1  curso1     conferencia_ikigai,_vive_con_propósito (1080p)   \n",
       "2  curso1             equidad_de_género_-_diversidad (1080p)   \n",
       "3  curso1         ¿cómo_defino_mi_personal_branding_ (1080p)   \n",
       "4  curso1                 ¿qué_son_los_estereotipos_ (1080p)   \n",
       "5  curso2  las_fases_del_autoconocimiento_y_cómo_reforzar...   \n",
       "6  curso2  lección_2_·_la_importancia_de_la_presencia (10...   \n",
       "7  curso2    modificar_tu_cerebro_·_neuroplasticidad (1080p)   \n",
       "8  curso2           retos_personales_y_profesionales (1080p)   \n",
       "9  curso2  síndrome_del_impostor_y_su_impacto_en_la_vida_...   \n",
       "\n",
       "                                           ruta m3u8  \\\n",
       "0  hls\\curso1\\3._de_programas_y_patrones (1080p)\\...   \n",
       "1  hls\\curso1\\conferencia_ikigai,_vive_con_propós...   \n",
       "2  hls\\curso1\\equidad_de_género_-_diversidad (108...   \n",
       "3  hls\\curso1\\¿cómo_defino_mi_personal_branding_ ...   \n",
       "4  hls\\curso1\\¿qué_son_los_estereotipos_ (1080p)\\...   \n",
       "5  hls\\curso2\\las_fases_del_autoconocimiento_y_có...   \n",
       "6  hls\\curso2\\lección_2_·_la_importancia_de_la_pr...   \n",
       "7  hls\\curso2\\modificar_tu_cerebro_·_neuroplastic...   \n",
       "8  hls\\curso2\\retos_personales_y_profesionales (1...   \n",
       "9  hls\\curso2\\síndrome_del_impostor_y_su_impacto_...   \n",
       "\n",
       "                                         link server  \n",
       "0  http://example.com/3._de_programas_y_patrones ...  \n",
       "1  http://example.com/conferencia_ikigai,_vive_co...  \n",
       "2  http://example.com/equidad_de_género_-_diversi...  \n",
       "3  http://example.com/¿cómo_defino_mi_personal_br...  \n",
       "4  http://example.com/¿qué_son_los_estereotipos_ ...  \n",
       "5  http://example.com/las_fases_del_autoconocimie...  \n",
       "6  http://example.com/lección_2_·_la_importancia_...  \n",
       "7  http://example.com/modificar_tu_cerebro_·_neur...  \n",
       "8  http://example.com/retos_personales_y_profesio...  \n",
       "9  http://example.com/síndrome_del_impostor_y_su_...  "
      ]
     },
     "execution_count": 5,
     "metadata": {},
     "output_type": "execute_result"
    }
   ],
   "source": [
    "directory = 'hls'\n",
    "df = generate_dataframe(directory)\n",
    "df.head(10)"
   ]
  },
  {
   "cell_type": "markdown",
   "metadata": {},
   "source": [
    "## Guardar en un csv"
   ]
  },
  {
   "cell_type": "code",
   "execution_count": 6,
   "metadata": {},
   "outputs": [],
   "source": [
    "df.to_csv('data.csv', index=False)"
   ]
  }
 ],
 "metadata": {
  "kernelspec": {
   "display_name": "Python 3",
   "language": "python",
   "name": "python3"
  },
  "language_info": {
   "codemirror_mode": {
    "name": "ipython",
    "version": 3
   },
   "file_extension": ".py",
   "mimetype": "text/x-python",
   "name": "python",
   "nbconvert_exporter": "python",
   "pygments_lexer": "ipython3",
   "version": "3.12.3"
  }
 },
 "nbformat": 4,
 "nbformat_minor": 2
}
