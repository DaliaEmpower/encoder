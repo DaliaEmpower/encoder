{
 "cells": [
  {
   "cell_type": "markdown",
   "metadata": {},
   "source": [
    "# Crear DataFrame a partir de un directorio\n",
    "Este notebook proporciona un script de Python que utiliza Pandas para crear un DataFrame basado en la estructura de un directorio proporcionado, que contiene información sobre cursos, lecciones, rutas m3u8 y enlaces del servidor."
   ]
  },
  {
   "cell_type": "markdown",
   "metadata": {},
   "source": [
    "## Bibliotecas\n",
    "* `os` para manipular archivos y directorios.\n",
    "* `pandas` para crear el DataFrame."
   ]
  },
  {
   "cell_type": "code",
   "execution_count": 1,
   "metadata": {},
   "outputs": [
    {
     "name": "stdout",
     "output_type": "stream",
     "text": [
      "Requirement already satisfied: pandas in c:\\users\\it performance\\appdata\\local\\programs\\python\\python312\\lib\\site-packages (2.2.2)\n",
      "Requirement already satisfied: openpyxl in c:\\users\\it performance\\appdata\\local\\programs\\python\\python312\\lib\\site-packages (3.1.2)\n",
      "Requirement already satisfied: numpy>=1.26.0 in c:\\users\\it performance\\appdata\\local\\programs\\python\\python312\\lib\\site-packages (from pandas) (1.26.4)\n",
      "Requirement already satisfied: python-dateutil>=2.8.2 in c:\\users\\it performance\\appdata\\local\\programs\\python\\python312\\lib\\site-packages (from pandas) (2.9.0.post0)\n",
      "Requirement already satisfied: pytz>=2020.1 in c:\\users\\it performance\\appdata\\local\\programs\\python\\python312\\lib\\site-packages (from pandas) (2024.1)\n",
      "Requirement already satisfied: tzdata>=2022.7 in c:\\users\\it performance\\appdata\\local\\programs\\python\\python312\\lib\\site-packages (from pandas) (2024.1)\n",
      "Requirement already satisfied: et-xmlfile in c:\\users\\it performance\\appdata\\local\\programs\\python\\python312\\lib\\site-packages (from openpyxl) (1.1.0)\n",
      "Requirement already satisfied: six>=1.5 in c:\\users\\it performance\\appdata\\local\\programs\\python\\python312\\lib\\site-packages (from python-dateutil>=2.8.2->pandas) (1.16.0)\n",
      "Note: you may need to restart the kernel to use updated packages.\n"
     ]
    }
   ],
   "source": [
    "%pip install pandas openpyxl"
   ]
  },
  {
   "cell_type": "markdown",
   "metadata": {},
   "source": [
    "### Importamos bibliotecas\n",
    "Importamos las bibliotecas:"
   ]
  },
  {
   "cell_type": "code",
   "execution_count": 2,
   "metadata": {},
   "outputs": [],
   "source": [
    "import os\n",
    "import pandas as pd\n",
    "import openpyxl"
   ]
  },
  {
   "cell_type": "markdown",
   "metadata": {},
   "source": [
    "## Función\n",
    "Definimos una función llamada generate_dataframe que toma un directorio como entrada y genera el DataFrame."
   ]
  },
  {
   "cell_type": "code",
   "execution_count": 8,
   "metadata": {},
   "outputs": [],
   "source": [
    "def generate_dataframe(directory):\n",
    "    data = []\n",
    "    for curso in os.listdir(directory):\n",
    "        curso_path = os.path.join(directory, curso)\n",
    "        if os.path.isdir(curso_path):\n",
    "            for leccion in os.listdir(curso_path):\n",
    "                leccion_path = os.path.join(curso_path, leccion)\n",
    "                if os.path.isdir(leccion_path):\n",
    "                    m3u8_files = [file for file in os.listdir(leccion_path) if file.endswith('.m3u8')]\n",
    "                    if m3u8_files:\n",
    "                        # asumimos que hay un solo archivo m3u8 por lección\n",
    "                        m3u8_file = m3u8_files[0]\n",
    "                        m3u8_path = os.path.join(leccion_path, m3u8_file)\n",
    "                        # armamos un link para cada lección\n",
    "                        link_server = \"https://storage.googleapis.com/stream-videos/{}\".format(m3u8_path.replace('\\\\', '/'))\n",
    "                        data.append([curso, leccion, m3u8_path, link_server])\n",
    "    \n",
    "    df = pd.DataFrame(data, columns=['Curso', 'Lección', 'ruta m3u8', 'link server'])\n",
    "    return df"
   ]
  },
  {
   "cell_type": "markdown",
   "metadata": {},
   "source": [
    "### Función para archivos maestros m3u8 (Playlist)\n",
    "Si tenemos un archivo maestro que manda a llamar a los demás maestros por cada definición:"
   ]
  },
  {
   "cell_type": "code",
   "execution_count": 28,
   "metadata": {},
   "outputs": [],
   "source": [
    "def generate_dataframe(directory):\n",
    "    data = []\n",
    "    for curso in os.listdir(directory):\n",
    "        curso_path = os.path.join(directory, curso)\n",
    "        if os.path.isdir(curso_path):\n",
    "            for leccion in os.listdir(curso_path):\n",
    "                leccion_path = os.path.join(curso_path, leccion)\n",
    "                if os.path.isdir(leccion_path):\n",
    "                    m3u8_files = [file for file in os.listdir(leccion_path) if file.endswith('.m3u8') and file.startswith('master')]\n",
    "                    if m3u8_files:\n",
    "                        m3u8_file = m3u8_files[0]\n",
    "                        m3u8_path = os.path.join(leccion_path, m3u8_file)\n",
    "                        link_server = \"https://storage.googleapis.com/stream-videos/{}\".format(m3u8_path.replace('\\\\', '/'))\n",
    "                        data.append([curso, leccion, m3u8_path, link_server])\n",
    "    \n",
    "    df = pd.DataFrame(data, columns=['Curso', 'Lección', 'ruta master.m3u8', 'link server'])\n",
    "    return df"
   ]
  },
  {
   "cell_type": "markdown",
   "metadata": {},
   "source": [
    "### Función que crea el link server sin la carpeta raíz"
   ]
  },
  {
   "cell_type": "code",
   "execution_count": 26,
   "metadata": {},
   "outputs": [],
   "source": [
    "def generate_dataframe(directory):\n",
    "    data = []\n",
    "    for curso in os.listdir(directory):\n",
    "        curso_path = os.path.join(directory, curso)\n",
    "        if os.path.isdir(curso_path):\n",
    "            for leccion in os.listdir(curso_path):\n",
    "                leccion_path = os.path.join(curso_path, leccion)\n",
    "                if os.path.isdir(leccion_path):\n",
    "                    m3u8_files = [file for file in os.listdir(leccion_path) if file.endswith('.m3u8') and file.startswith('master')]\n",
    "                    if m3u8_files:\n",
    "                        m3u8_file = m3u8_files[0]\n",
    "                        m3u8_path = os.path.join(leccion_path, m3u8_file)\n",
    "                        # Reemplazar '\\' por '/'\n",
    "                        link_server = \"https://storage.googleapis.com/stream-videos/{}\".format(m3u8_path.replace('\\\\', '/'))\n",
    "                        # Eliminar la parte 'output/' del enlace\n",
    "                        link_server = link_server.replace('/output/', '/')\n",
    "                        data.append([curso, leccion, m3u8_path, link_server])\n",
    "        df = pd.DataFrame(data, columns=['Curso', 'Lección', 'ruta master.m3u8', 'link server'])\n",
    "    return df"
   ]
  },
  {
   "cell_type": "markdown",
   "metadata": {},
   "source": [
    "## Especificar el directoriio y generar DataFrame\n",
    "Especifica el directorio que contiene la estructura de directorios de cursos y lecciones, y luego llama a la función generate_dataframe para generar el DataFrame."
   ]
  },
  {
   "cell_type": "code",
   "execution_count": 29,
   "metadata": {},
   "outputs": [
    {
     "data": {
      "text/html": [
       "<div>\n",
       "<style scoped>\n",
       "    .dataframe tbody tr th:only-of-type {\n",
       "        vertical-align: middle;\n",
       "    }\n",
       "\n",
       "    .dataframe tbody tr th {\n",
       "        vertical-align: top;\n",
       "    }\n",
       "\n",
       "    .dataframe thead th {\n",
       "        text-align: right;\n",
       "    }\n",
       "</style>\n",
       "<table border=\"1\" class=\"dataframe\">\n",
       "  <thead>\n",
       "    <tr style=\"text-align: right;\">\n",
       "      <th></th>\n",
       "      <th>Curso</th>\n",
       "      <th>Lección</th>\n",
       "      <th>ruta master.m3u8</th>\n",
       "      <th>link server</th>\n",
       "    </tr>\n",
       "  </thead>\n",
       "  <tbody>\n",
       "    <tr>\n",
       "      <th>0</th>\n",
       "      <td>eClass_ABC_de_la_diversidad_e_inclusion_laboral</td>\n",
       "      <td>00-TS</td>\n",
       "      <td>vod\\eClass_ABC_de_la_diversidad_e_inclusion_la...</td>\n",
       "      <td>https://storage.googleapis.com/stream-videos/v...</td>\n",
       "    </tr>\n",
       "    <tr>\n",
       "      <th>1</th>\n",
       "      <td>eClass_ABC_de_la_diversidad_e_inclusion_laboral</td>\n",
       "      <td>01-Introduccion</td>\n",
       "      <td>vod\\eClass_ABC_de_la_diversidad_e_inclusion_la...</td>\n",
       "      <td>https://storage.googleapis.com/stream-videos/v...</td>\n",
       "    </tr>\n",
       "    <tr>\n",
       "      <th>2</th>\n",
       "      <td>eClass_ABC_de_la_diversidad_e_inclusion_laboral</td>\n",
       "      <td>02-Hablemos_de_diversidad_e_inclusion</td>\n",
       "      <td>vod\\eClass_ABC_de_la_diversidad_e_inclusion_la...</td>\n",
       "      <td>https://storage.googleapis.com/stream-videos/v...</td>\n",
       "    </tr>\n",
       "    <tr>\n",
       "      <th>3</th>\n",
       "      <td>eClass_ABC_de_la_diversidad_e_inclusion_laboral</td>\n",
       "      <td>03-La_diversidad_como_modelo_de_negocio</td>\n",
       "      <td>vod\\eClass_ABC_de_la_diversidad_e_inclusion_la...</td>\n",
       "      <td>https://storage.googleapis.com/stream-videos/v...</td>\n",
       "    </tr>\n",
       "    <tr>\n",
       "      <th>4</th>\n",
       "      <td>eClass_ABC_de_la_diversidad_e_inclusion_laboral</td>\n",
       "      <td>04-Los_enemigos_de_la_diversidad_y_la_inclusion</td>\n",
       "      <td>vod\\eClass_ABC_de_la_diversidad_e_inclusion_la...</td>\n",
       "      <td>https://storage.googleapis.com/stream-videos/v...</td>\n",
       "    </tr>\n",
       "    <tr>\n",
       "      <th>5</th>\n",
       "      <td>eClass_ABC_de_la_diversidad_e_inclusion_laboral</td>\n",
       "      <td>05-Una_evolucion_necesaria</td>\n",
       "      <td>vod\\eClass_ABC_de_la_diversidad_e_inclusion_la...</td>\n",
       "      <td>https://storage.googleapis.com/stream-videos/v...</td>\n",
       "    </tr>\n",
       "    <tr>\n",
       "      <th>6</th>\n",
       "      <td>eClass_ABC_de_la_diversidad_e_inclusion_laboral</td>\n",
       "      <td>06-Conclusiones</td>\n",
       "      <td>vod\\eClass_ABC_de_la_diversidad_e_inclusion_la...</td>\n",
       "      <td>https://storage.googleapis.com/stream-videos/v...</td>\n",
       "    </tr>\n",
       "    <tr>\n",
       "      <th>7</th>\n",
       "      <td>eClass_Adios_al_sindrome_de_la_impostora_soy_c...</td>\n",
       "      <td>00-TS</td>\n",
       "      <td>vod\\eClass_Adios_al_sindrome_de_la_impostora_s...</td>\n",
       "      <td>https://storage.googleapis.com/stream-videos/v...</td>\n",
       "    </tr>\n",
       "    <tr>\n",
       "      <th>8</th>\n",
       "      <td>eClass_Adios_al_sindrome_de_la_impostora_soy_c...</td>\n",
       "      <td>01-Introduccion</td>\n",
       "      <td>vod\\eClass_Adios_al_sindrome_de_la_impostora_s...</td>\n",
       "      <td>https://storage.googleapis.com/stream-videos/v...</td>\n",
       "    </tr>\n",
       "    <tr>\n",
       "      <th>9</th>\n",
       "      <td>eClass_Adios_al_sindrome_de_la_impostora_soy_c...</td>\n",
       "      <td>02-Conociendo_el_sindrome_del_impostor_o_de_la...</td>\n",
       "      <td>vod\\eClass_Adios_al_sindrome_de_la_impostora_s...</td>\n",
       "      <td>https://storage.googleapis.com/stream-videos/v...</td>\n",
       "    </tr>\n",
       "  </tbody>\n",
       "</table>\n",
       "</div>"
      ],
      "text/plain": [
       "                                               Curso  \\\n",
       "0    eClass_ABC_de_la_diversidad_e_inclusion_laboral   \n",
       "1    eClass_ABC_de_la_diversidad_e_inclusion_laboral   \n",
       "2    eClass_ABC_de_la_diversidad_e_inclusion_laboral   \n",
       "3    eClass_ABC_de_la_diversidad_e_inclusion_laboral   \n",
       "4    eClass_ABC_de_la_diversidad_e_inclusion_laboral   \n",
       "5    eClass_ABC_de_la_diversidad_e_inclusion_laboral   \n",
       "6    eClass_ABC_de_la_diversidad_e_inclusion_laboral   \n",
       "7  eClass_Adios_al_sindrome_de_la_impostora_soy_c...   \n",
       "8  eClass_Adios_al_sindrome_de_la_impostora_soy_c...   \n",
       "9  eClass_Adios_al_sindrome_de_la_impostora_soy_c...   \n",
       "\n",
       "                                             Lección  \\\n",
       "0                                              00-TS   \n",
       "1                                    01-Introduccion   \n",
       "2              02-Hablemos_de_diversidad_e_inclusion   \n",
       "3            03-La_diversidad_como_modelo_de_negocio   \n",
       "4    04-Los_enemigos_de_la_diversidad_y_la_inclusion   \n",
       "5                         05-Una_evolucion_necesaria   \n",
       "6                                    06-Conclusiones   \n",
       "7                                              00-TS   \n",
       "8                                    01-Introduccion   \n",
       "9  02-Conociendo_el_sindrome_del_impostor_o_de_la...   \n",
       "\n",
       "                                    ruta master.m3u8  \\\n",
       "0  vod\\eClass_ABC_de_la_diversidad_e_inclusion_la...   \n",
       "1  vod\\eClass_ABC_de_la_diversidad_e_inclusion_la...   \n",
       "2  vod\\eClass_ABC_de_la_diversidad_e_inclusion_la...   \n",
       "3  vod\\eClass_ABC_de_la_diversidad_e_inclusion_la...   \n",
       "4  vod\\eClass_ABC_de_la_diversidad_e_inclusion_la...   \n",
       "5  vod\\eClass_ABC_de_la_diversidad_e_inclusion_la...   \n",
       "6  vod\\eClass_ABC_de_la_diversidad_e_inclusion_la...   \n",
       "7  vod\\eClass_Adios_al_sindrome_de_la_impostora_s...   \n",
       "8  vod\\eClass_Adios_al_sindrome_de_la_impostora_s...   \n",
       "9  vod\\eClass_Adios_al_sindrome_de_la_impostora_s...   \n",
       "\n",
       "                                         link server  \n",
       "0  https://storage.googleapis.com/stream-videos/v...  \n",
       "1  https://storage.googleapis.com/stream-videos/v...  \n",
       "2  https://storage.googleapis.com/stream-videos/v...  \n",
       "3  https://storage.googleapis.com/stream-videos/v...  \n",
       "4  https://storage.googleapis.com/stream-videos/v...  \n",
       "5  https://storage.googleapis.com/stream-videos/v...  \n",
       "6  https://storage.googleapis.com/stream-videos/v...  \n",
       "7  https://storage.googleapis.com/stream-videos/v...  \n",
       "8  https://storage.googleapis.com/stream-videos/v...  \n",
       "9  https://storage.googleapis.com/stream-videos/v...  "
      ]
     },
     "execution_count": 29,
     "metadata": {},
     "output_type": "execute_result"
    }
   ],
   "source": [
    "directory = 'vod'\n",
    "df = generate_dataframe(directory)\n",
    "df.head(10)"
   ]
  },
  {
   "cell_type": "code",
   "execution_count": 30,
   "metadata": {},
   "outputs": [
    {
     "data": {
      "text/plain": [
       "361"
      ]
     },
     "execution_count": 30,
     "metadata": {},
     "output_type": "execute_result"
    }
   ],
   "source": [
    "len(df)"
   ]
  },
  {
   "cell_type": "markdown",
   "metadata": {},
   "source": [
    "## Guardar en un excel"
   ]
  },
  {
   "cell_type": "code",
   "execution_count": 31,
   "metadata": {},
   "outputs": [],
   "source": [
    "df.to_excel('dataCoursesHLS.xlsx', index=False)"
   ]
  }
 ],
 "metadata": {
  "kernelspec": {
   "display_name": "Python 3",
   "language": "python",
   "name": "python3"
  },
  "language_info": {
   "codemirror_mode": {
    "name": "ipython",
    "version": 3
   },
   "file_extension": ".py",
   "mimetype": "text/x-python",
   "name": "python",
   "nbconvert_exporter": "python",
   "pygments_lexer": "ipython3",
   "version": "3.12.3"
  }
 },
 "nbformat": 4,
 "nbformat_minor": 2
}
